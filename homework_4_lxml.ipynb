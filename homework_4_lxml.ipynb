{
 "cells": [
  {
   "cell_type": "markdown",
   "metadata": {},
   "source": [
    "<h1 style=\"text-align: center;\">Homework 4</h1>"
   ]
  },
  {
   "cell_type": "code",
   "execution_count": 2,
   "metadata": {},
   "outputs": [],
   "source": [
    "import numpy as np \n",
    "import pandas as pd\n",
    "\n",
    "import requests\n",
    "from bs4 import BeautifulSoup\n",
    "from pprint import pprint\n",
    "import time\n",
    "\n",
    "import json\n",
    "from lxml import html\n",
    "from lxml.etree import tostring\n",
    "from xml.dom.minidom import parseString\n",
    "from dicttoxml import dicttoxml"
   ]
  },
  {
   "cell_type": "code",
   "execution_count": 3,
   "metadata": {},
   "outputs": [],
   "source": [
    "base_url = \"https://www.youtube.com\"\n",
    "url = \"https://www.youtube.com/feed/trending\""
   ]
  },
  {
   "cell_type": "code",
   "execution_count": 4,
   "metadata": {},
   "outputs": [],
   "source": [
    "response = requests.get(url) #headers={\"user-agent\": \"edu_research_bot\"}\n",
    "page = response.content\n",
    "tree = html.document_fromstring(page)"
   ]
  },
  {
   "cell_type": "code",
   "execution_count": 8,
   "metadata": {},
   "outputs": [
    {
     "data": {
      "text/plain": [
       "[]"
      ]
     },
     "execution_count": 8,
     "metadata": {},
     "output_type": "execute_result"
    }
   ],
   "source": [
    "[i.text_content().replace(\" views\", '') for i in tree.xpath(\"//ul[@class='yt-lockup-meta-info']/li\")[1]]"
   ]
  },
  {
   "cell_type": "code",
   "execution_count": 21,
   "metadata": {},
   "outputs": [
    {
     "data": {
      "text/plain": [
       "'1,317,831 views'"
      ]
     },
     "execution_count": 21,
     "metadata": {},
     "output_type": "execute_result"
    }
   ],
   "source": [
    "tree.xpath(\"//ul[@class='yt-lockup-meta-info']/li[2]\")[0].text_content()"
   ]
  },
  {
   "cell_type": "code",
   "execution_count": 37,
   "metadata": {},
   "outputs": [],
   "source": [
    "trending = {}\n",
    "divs = tree.xpath(\"//div[@class='yt-lockup-content']/h3/a/@href\")\n",
    "trending[\"URL\"] = tree.xpath(\"//a[@class='yt-uix-tile-link yt-ui-ellipsis yt-ui-ellipsis-2 yt-uix-sessionlink      spf-link ']/@href\")\n",
    "trending[\"Title\"] = tree.xpath(\"//a[@class='yt-uix-tile-link yt-ui-ellipsis yt-ui-ellipsis-2 yt-uix-sessionlink      spf-link ']/@title\")\n",
    "trending[\"Duration\"] = [i.text_content().replace(\"- Duration: \", '') for i in tree.xpath(\"//span[@class='accessible-description']\")]\n",
    "trending[\"Username\"] = [i.text_content() for i in tree.xpath(\"//a[@class='yt-uix-sessionlink       spf-link ']\")]\n",
    "trending[\"Views\"] = [i.text_content().replace(\" views\", '') for i in tree.xpath(\"//ul[@class='yt-lockup-meta-info']/li[2]\")]"
   ]
  },
  {
   "cell_type": "code",
   "execution_count": 38,
   "metadata": {},
   "outputs": [
    {
     "data": {
      "text/plain": [
       "['URL:69', 'Title:69', 'Duration:74', 'Username:74', 'Views:74']"
      ]
     },
     "execution_count": 38,
     "metadata": {},
     "output_type": "execute_result"
    }
   ],
   "source": [
    "[key +\":\" + str(len(trending[key])) for key in trending.keys()] \n",
    "#YouTube added some 'Creator on the rise' video table in trending list, that's why the lengths are different"
   ]
  },
  {
   "cell_type": "code",
   "execution_count": 39,
   "metadata": {},
   "outputs": [
    {
     "data": {
      "text/plain": [
       "['Trent Palmer',\n",
       " 'Trent Palmer',\n",
       " 'Trent Palmer',\n",
       " 'Trent Palmer',\n",
       " 'Trent Palmer']"
      ]
     },
     "execution_count": 39,
     "metadata": {},
     "output_type": "execute_result"
    }
   ],
   "source": [
    "trending[\"Username\"][4:9]"
   ]
  },
  {
   "cell_type": "code",
   "execution_count": 40,
   "metadata": {},
   "outputs": [],
   "source": [
    "del(trending[\"Duration\"][4:9])\n",
    "del(trending[\"Username\"][4:9])\n",
    "del(trending[\"Views\"][4:9])\n",
    "trending[\"URL\"] = [base_url + i for i in trending[\"URL\"]]"
   ]
  },
  {
   "cell_type": "code",
   "execution_count": 41,
   "metadata": {},
   "outputs": [
    {
     "data": {
      "text/html": [
       "<div>\n",
       "<style scoped>\n",
       "    .dataframe tbody tr th:only-of-type {\n",
       "        vertical-align: middle;\n",
       "    }\n",
       "\n",
       "    .dataframe tbody tr th {\n",
       "        vertical-align: top;\n",
       "    }\n",
       "\n",
       "    .dataframe thead th {\n",
       "        text-align: right;\n",
       "    }\n",
       "</style>\n",
       "<table border=\"1\" class=\"dataframe\">\n",
       "  <thead>\n",
       "    <tr style=\"text-align: right;\">\n",
       "      <th></th>\n",
       "      <th>URL</th>\n",
       "      <th>Title</th>\n",
       "      <th>Duration</th>\n",
       "      <th>Username</th>\n",
       "      <th>Views</th>\n",
       "    </tr>\n",
       "  </thead>\n",
       "  <tbody>\n",
       "    <tr>\n",
       "      <th>0</th>\n",
       "      <td>https://www.youtube.com/watch?v=MBPdKxlazD0</td>\n",
       "      <td>Blind Chicken Wing Taste Test</td>\n",
       "      <td>14:29</td>\n",
       "      <td>Good Mythical Morning</td>\n",
       "      <td>1317831</td>\n",
       "    </tr>\n",
       "    <tr>\n",
       "      <th>1</th>\n",
       "      <td>https://www.youtube.com/watch?v=w7pYhpJaJW8</td>\n",
       "      <td>Alita: Battle Angel | Official Trailer [HD] | ...</td>\n",
       "      <td>2:37</td>\n",
       "      <td>20th Century Fox</td>\n",
       "      <td>2590262</td>\n",
       "    </tr>\n",
       "    <tr>\n",
       "      <th>2</th>\n",
       "      <td>https://www.youtube.com/watch?v=f3uVr2bZKUU</td>\n",
       "      <td>Sara Haines Announces She's Leaving 'The View'...</td>\n",
       "      <td>4:55</td>\n",
       "      <td>The View</td>\n",
       "      <td>375595</td>\n",
       "    </tr>\n",
       "    <tr>\n",
       "      <th>3</th>\n",
       "      <td>https://www.youtube.com/watch?v=tgBHu2D66Rg</td>\n",
       "      <td>5 things you need to know before tonight's Raw...</td>\n",
       "      <td>1:31</td>\n",
       "      <td>WWE</td>\n",
       "      <td>258924</td>\n",
       "    </tr>\n",
       "    <tr>\n",
       "      <th>4</th>\n",
       "      <td>https://www.youtube.com/watch?v=PV9jdolesMI</td>\n",
       "      <td>Game Theory: We Were Right ALL ALONG! (FNAF Ul...</td>\n",
       "      <td>18:32</td>\n",
       "      <td>The Game Theorists</td>\n",
       "      <td>3682972</td>\n",
       "    </tr>\n",
       "  </tbody>\n",
       "</table>\n",
       "</div>"
      ],
      "text/plain": [
       "                                           URL  \\\n",
       "0  https://www.youtube.com/watch?v=MBPdKxlazD0   \n",
       "1  https://www.youtube.com/watch?v=w7pYhpJaJW8   \n",
       "2  https://www.youtube.com/watch?v=f3uVr2bZKUU   \n",
       "3  https://www.youtube.com/watch?v=tgBHu2D66Rg   \n",
       "4  https://www.youtube.com/watch?v=PV9jdolesMI   \n",
       "\n",
       "                                               Title Duration  \\\n",
       "0                      Blind Chicken Wing Taste Test    14:29   \n",
       "1  Alita: Battle Angel | Official Trailer [HD] | ...     2:37   \n",
       "2  Sara Haines Announces She's Leaving 'The View'...     4:55   \n",
       "3  5 things you need to know before tonight's Raw...     1:31   \n",
       "4  Game Theory: We Were Right ALL ALONG! (FNAF Ul...    18:32   \n",
       "\n",
       "                Username    Views  \n",
       "0  Good Mythical Morning  1317831  \n",
       "1       20th Century Fox  2590262  \n",
       "2               The View   375595  \n",
       "3                    WWE   258924  \n",
       "4     The Game Theorists  3682972  "
      ]
     },
     "execution_count": 41,
     "metadata": {},
     "output_type": "execute_result"
    }
   ],
   "source": [
    "trending_df = pd.DataFrame(trending)\n",
    "trending_df.Duration = trending_df.Duration.str.replace(\".\", '')\n",
    "trending_df.Views = trending_df.Views.str.replace(\",\", '')\n",
    "trending_df.Views = trending_df.Views.apply(pd.to_numeric)\n",
    "trending_df.head()"
   ]
  },
  {
   "cell_type": "code",
   "execution_count": 43,
   "metadata": {},
   "outputs": [
    {
     "name": "stdout",
     "output_type": "stream",
     "text": [
      "Trending mean: 3504611.434782609\n"
     ]
    }
   ],
   "source": [
    "print(\"Trending mean:\", np.mean(trending_df.Views))"
   ]
  }
 ],
 "metadata": {
  "kernelspec": {
   "display_name": "Python 3",
   "language": "python",
   "name": "python3"
  },
  "language_info": {
   "codemirror_mode": {
    "name": "ipython",
    "version": 3
   },
   "file_extension": ".py",
   "mimetype": "text/x-python",
   "name": "python",
   "nbconvert_exporter": "python",
   "pygments_lexer": "ipython3",
   "version": "3.6.5"
  }
 },
 "nbformat": 4,
 "nbformat_minor": 2
}
