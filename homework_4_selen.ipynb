{
 "cells": [
  {
   "cell_type": "markdown",
   "metadata": {},
   "source": [
    "<h1 style=\"text-align: center;\">Homework 4</h1>\n"
   ]
  },
  {
   "cell_type": "code",
   "execution_count": 1,
   "metadata": {},
   "outputs": [],
   "source": [
    "import numpy as np\n",
    "import pandas as pd\n",
    "\n",
    "import requests\n",
    "from bs4 import BeautifulSoup\n",
    "from pprint import pprint\n",
    "import time\n",
    "\n",
    "import re\n",
    "from selenium import webdriver\n",
    "from lxml import html\n",
    "import json\n",
    "\n",
    "from lxml.etree import tostring"
   ]
  },
  {
   "cell_type": "code",
   "execution_count": 2,
   "metadata": {},
   "outputs": [],
   "source": [
    "base_url = \"https://www.youtube.com\"\n",
    "url = \"https://www.youtube.com/feed/trending\""
   ]
  },
  {
   "cell_type": "code",
   "execution_count": 4,
   "metadata": {},
   "outputs": [],
   "source": [
    "browser = webdriver.Chrome()\n",
    "browser.get(url)"
   ]
  },
  {
   "cell_type": "code",
   "execution_count": 57,
   "metadata": {},
   "outputs": [
    {
     "data": {
      "text/plain": [
       "['URL:69', 'Title:74', 'Duration:74', 'Username:74', 'Views:74']"
      ]
     },
     "execution_count": 57,
     "metadata": {},
     "output_type": "execute_result"
    }
   ],
   "source": [
    "trending = {}\n",
    "trending[\"URL\"] = [i.get_attribute('href') for i in browser.find_elements_by_xpath(\"//a[@class='yt-simple-endpoint style-scope ytd-video-renderer']\")]\n",
    "trending[\"Title\"] = [i.get_attribute('title') for i in browser.find_elements_by_xpath(\"//a[@id='video-title']\")]\n",
    "trending[\"Duration\"] = [i.get_attribute('innerHTML').replace('\\n', '') for i in browser.find_elements_by_xpath(\"//span[@class='style-scope ytd-thumbnail-overlay-time-status-renderer']\")]\n",
    "trending[\"Username\"] = [i.get_attribute('title') for i in browser.find_elements_by_xpath(\"//yt-formatted-string[@id='byline']\")]\n",
    "aria_label = [i.get_attribute('aria-label') for i in browser.find_elements_by_xpath(\"//a[@id='video-title']\")]\n",
    "trending[\"Views\"] = a = [re.findall(\"([0-9]+)\\sviews\", i.replace(',','')) for i in aria_label]\n",
    "[key +\":\" + str(len(trending[key])) for key in trending.keys()]"
   ]
  },
  {
   "cell_type": "code",
   "execution_count": 58,
   "metadata": {},
   "outputs": [
    {
     "data": {
      "text/plain": [
       "['Trent Palmer',\n",
       " 'Trent Palmer',\n",
       " 'Trent Palmer',\n",
       " 'Trent Palmer',\n",
       " 'Trent Palmer']"
      ]
     },
     "execution_count": 58,
     "metadata": {},
     "output_type": "execute_result"
    }
   ],
   "source": [
    "trending[\"Username\"][4:9]"
   ]
  },
  {
   "cell_type": "code",
   "execution_count": 59,
   "metadata": {},
   "outputs": [],
   "source": [
    "del(trending[\"Title\"][4:9])\n",
    "del(trending[\"Duration\"][4:9])\n",
    "del(trending[\"Username\"][4:9])\n",
    "del(trending[\"Views\"][4:9])"
   ]
  },
  {
   "cell_type": "code",
   "execution_count": 60,
   "metadata": {},
   "outputs": [
    {
     "data": {
      "text/html": [
       "<div>\n",
       "<style scoped>\n",
       "    .dataframe tbody tr th:only-of-type {\n",
       "        vertical-align: middle;\n",
       "    }\n",
       "\n",
       "    .dataframe tbody tr th {\n",
       "        vertical-align: top;\n",
       "    }\n",
       "\n",
       "    .dataframe thead th {\n",
       "        text-align: right;\n",
       "    }\n",
       "</style>\n",
       "<table border=\"1\" class=\"dataframe\">\n",
       "  <thead>\n",
       "    <tr style=\"text-align: right;\">\n",
       "      <th></th>\n",
       "      <th>URL</th>\n",
       "      <th>Title</th>\n",
       "      <th>Duration</th>\n",
       "      <th>Username</th>\n",
       "      <th>Views</th>\n",
       "    </tr>\n",
       "  </thead>\n",
       "  <tbody>\n",
       "    <tr>\n",
       "      <th>0</th>\n",
       "      <td>https://www.youtube.com/watch?v=MBPdKxlazD0</td>\n",
       "      <td>Blind Chicken Wing Taste Test</td>\n",
       "      <td>14:29</td>\n",
       "      <td>Good Mythical Morning</td>\n",
       "      <td>[1342361]</td>\n",
       "    </tr>\n",
       "    <tr>\n",
       "      <th>1</th>\n",
       "      <td>https://www.youtube.com/watch?v=w7pYhpJaJW8</td>\n",
       "      <td>Alita: Battle Angel | Official Trailer [HD] | ...</td>\n",
       "      <td>2:37</td>\n",
       "      <td>20th Century Fox</td>\n",
       "      <td>[2742697]</td>\n",
       "    </tr>\n",
       "    <tr>\n",
       "      <th>2</th>\n",
       "      <td>https://www.youtube.com/watch?v=f3uVr2bZKUU</td>\n",
       "      <td>Sara Haines Announces She's Leaving 'The View'...</td>\n",
       "      <td>4:55</td>\n",
       "      <td>The View</td>\n",
       "      <td>[379599]</td>\n",
       "    </tr>\n",
       "    <tr>\n",
       "      <th>3</th>\n",
       "      <td>https://www.youtube.com/watch?v=tgBHu2D66Rg</td>\n",
       "      <td>5 things you need to know before tonight's Raw...</td>\n",
       "      <td>1:31</td>\n",
       "      <td>WWE</td>\n",
       "      <td>[264880]</td>\n",
       "    </tr>\n",
       "    <tr>\n",
       "      <th>4</th>\n",
       "      <td>https://www.youtube.com/watch?v=PV9jdolesMI</td>\n",
       "      <td>Game Theory: We Were Right ALL ALONG! (FNAF Ul...</td>\n",
       "      <td>18:32</td>\n",
       "      <td>The Game Theorists</td>\n",
       "      <td>[3699682]</td>\n",
       "    </tr>\n",
       "  </tbody>\n",
       "</table>\n",
       "</div>"
      ],
      "text/plain": [
       "                                           URL  \\\n",
       "0  https://www.youtube.com/watch?v=MBPdKxlazD0   \n",
       "1  https://www.youtube.com/watch?v=w7pYhpJaJW8   \n",
       "2  https://www.youtube.com/watch?v=f3uVr2bZKUU   \n",
       "3  https://www.youtube.com/watch?v=tgBHu2D66Rg   \n",
       "4  https://www.youtube.com/watch?v=PV9jdolesMI   \n",
       "\n",
       "                                               Title         Duration  \\\n",
       "0                      Blind Chicken Wing Taste Test        14:29       \n",
       "1  Alita: Battle Angel | Official Trailer [HD] | ...         2:37       \n",
       "2  Sara Haines Announces She's Leaving 'The View'...         4:55       \n",
       "3  5 things you need to know before tonight's Raw...         1:31       \n",
       "4  Game Theory: We Were Right ALL ALONG! (FNAF Ul...        18:32       \n",
       "\n",
       "                Username      Views  \n",
       "0  Good Mythical Morning  [1342361]  \n",
       "1       20th Century Fox  [2742697]  \n",
       "2               The View   [379599]  \n",
       "3                    WWE   [264880]  \n",
       "4     The Game Theorists  [3699682]  "
      ]
     },
     "execution_count": 60,
     "metadata": {},
     "output_type": "execute_result"
    }
   ],
   "source": [
    "trending_df = pd.DataFrame(trending)\n",
    "trending_df.head()"
   ]
  }
 ],
 "metadata": {
  "kernelspec": {
   "display_name": "Python 3",
   "language": "python",
   "name": "python3"
  },
  "language_info": {
   "codemirror_mode": {
    "name": "ipython",
    "version": 3
   },
   "file_extension": ".py",
   "mimetype": "text/x-python",
   "name": "python",
   "nbconvert_exporter": "python",
   "pygments_lexer": "ipython3",
   "version": "3.6.5"
  }
 },
 "nbformat": 4,
 "nbformat_minor": 2
}
